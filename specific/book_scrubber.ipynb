{
 "cells": [
  {
   "cell_type": "code",
   "execution_count": 2,
   "id": "9e7e4271-218c-4751-83bf-e3f98a603a87",
   "metadata": {},
   "outputs": [],
   "source": [
    "##Load the Data\n",
    "import pandas as pd\n",
    "\n",
    "# Example: Load data from a CSV\n",
    "data = pd.read_csv('text_data.csv')\n",
    "texts = data['text_column']\n"
   ]
  },
  {
   "cell_type": "code",
   "execution_count": 3,
   "id": "71d95535-7ab6-4eeb-a3bb-81549c4a894b",
   "metadata": {},
   "outputs": [],
   "source": [
    "#Lowercasing\n",
    "texts = texts.str.lower()\n"
   ]
  },
  {
   "cell_type": "code",
   "execution_count": 4,
   "id": "08804830-9ff4-4b6e-934d-36c5bd9f0696",
   "metadata": {
    "scrolled": true
   },
   "outputs": [
    {
     "ename": "NameError",
     "evalue": "name 'texts' is not defined",
     "output_type": "error",
     "traceback": [
      "\u001b[1;31m---------------------------------------------------------------------------\u001b[0m",
      "\u001b[1;31mNameError\u001b[0m                                 Traceback (most recent call last)",
      "Cell \u001b[1;32mIn[4], line 4\u001b[0m\n\u001b[0;32m      1\u001b[0m \u001b[38;5;66;03m#Remove punctuation\u001b[39;00m\n\u001b[0;32m      2\u001b[0m \u001b[38;5;28;01mimport\u001b[39;00m \u001b[38;5;21;01mstring\u001b[39;00m\n\u001b[1;32m----> 4\u001b[0m texts \u001b[38;5;241m=\u001b[39m \u001b[43mtexts\u001b[49m\u001b[38;5;241m.\u001b[39mstr\u001b[38;5;241m.\u001b[39mtranslate(\u001b[38;5;28mstr\u001b[39m\u001b[38;5;241m.\u001b[39mmaketrans(\u001b[38;5;124m'\u001b[39m\u001b[38;5;124m'\u001b[39m, \u001b[38;5;124m'\u001b[39m\u001b[38;5;124m'\u001b[39m, string\u001b[38;5;241m.\u001b[39mpunctuation))\n",
      "\u001b[1;31mNameError\u001b[0m: name 'texts' is not defined"
     ]
    }
   ],
   "source": [
    "#Remove punctuation\n",
    "import string\n",
    "\n",
    "texts = texts.str.translate(str.maketrans('', '', string.punctuation))\n"
   ]
  },
  {
   "cell_type": "code",
   "execution_count": null,
   "id": "0a7bed47-f621-4348-81ff-3472e81697cf",
   "metadata": {},
   "outputs": [],
   "source": [
    "#Tokenization\n",
    "from nltk.tokenize import word_tokenize\n",
    "\n",
    "texts = texts.apply(word_tokenize)\n"
   ]
  },
  {
   "cell_type": "code",
   "execution_count": null,
   "id": "f41af347-9f93-47e3-a4b7-89375e5fdfa7",
   "metadata": {},
   "outputs": [],
   "source": [
    "#stopword removal\n",
    "\n",
    "from nltk.corpus import stopwords\n",
    "\n",
    "stop_words = set(stopwords.words('english'))\n",
    "texts = texts.apply(lambda x: [word for word in x if word not in stop_words])\n"
   ]
  },
  {
   "cell_type": "code",
   "execution_count": null,
   "id": "c1ff0e47-62d6-4826-92e2-120aef2517b2",
   "metadata": {},
   "outputs": [],
   "source": [
    "#Remove Non-Alphanumeric Characters\n",
    "texts = texts.apply(lambda x: [word for word in x if word.isalpha()])\n"
   ]
  },
  {
   "cell_type": "code",
   "execution_count": null,
   "id": "c73b21a4-59f1-4a73-9914-71133b7887da",
   "metadata": {},
   "outputs": [],
   "source": [
    "#Stemming\n",
    "from nltk.stem import PorterStemmer\n",
    "\n",
    "stemmer = PorterStemmer()\n",
    "texts = texts.apply(lambda x: [stemmer.stem(word) for word in x])\n"
   ]
  },
  {
   "cell_type": "code",
   "execution_count": null,
   "id": "2d5657de-484f-4360-9252-afa111e74a2a",
   "metadata": {},
   "outputs": [],
   "source": [
    "#lemmatization\n",
    "from nltk.stem import WordNetLemmatizer\n",
    "\n",
    "lemmatizer = WordNetLemmatizer()\n",
    "texts = texts.apply(lambda x: [lemmatizer.lemmatize(word) for word in x])\n"
   ]
  },
  {
   "cell_type": "code",
   "execution_count": null,
   "id": "8f4cf3e6-5d2b-4ceb-ab0b-d8449e450f03",
   "metadata": {},
   "outputs": [],
   "source": [
    "#Remove Rare or Frequent Words\n",
    "from collections import Counter\n",
    "\n",
    "word_counts = Counter([word for text in texts for word in text])\n",
    "texts = texts.apply(lambda x: [word for word in x if 5 < word_counts[word] < 1000])\n",
    "\n"
   ]
  },
  {
   "cell_type": "code",
   "execution_count": null,
   "id": "93b47574-395e-471e-b3df-ff5101689657",
   "metadata": {},
   "outputs": [],
   "source": [
    "#Spell Correction\n",
    "from spellchecker import SpellChecker\n",
    "\n",
    "spell = SpellChecker()\n",
    "texts = texts.apply(lambda x: [spell.correction(word) for word in x])\n"
   ]
  },
  {
   "cell_type": "code",
   "execution_count": null,
   "id": "50936275-e31c-4ad4-9cd5-e16a1d6f7188",
   "metadata": {},
   "outputs": [],
   "source": [
    "#Rejoin Tokens\n",
    "texts = texts.apply(lambda x: ' '.join(x))\n"
   ]
  },
  {
   "cell_type": "code",
   "execution_count": null,
   "id": "b74ee8a1-4a98-4662-9c63-f3d8a0b10f59",
   "metadata": {},
   "outputs": [],
   "source": [
    "#Save the Cleaned Data\n",
    "data['cleaned_text'] = texts\n",
    "data.to_csv('cleaned_text_data.csv', index=False)"
   ]
  },
  {
   "cell_type": "code",
   "execution_count": null,
   "id": "34506053-a937-4d62-af34-4c89383493dc",
   "metadata": {},
   "outputs": [],
   "source": [
    "#Example Using a Pipeline\n",
    "def clean_text(texts):\n",
    "    import string\n",
    "    from nltk.corpus import stopwords\n",
    "    from nltk.tokenize import word_tokenize\n",
    "    from nltk.stem import WordNetLemmatizer\n",
    "\n",
    "    stop_words = set(stopwords.words('english'))\n",
    "    lemmatizer = WordNetLemmatizer()\n",
    "\n",
    "    cleaned_texts = []\n",
    "    for text in texts:\n",
    "        # Lowercase\n",
    "        text = text.lower()\n",
    "        # Remove punctuation\n",
    "        text = text.translate(str.maketrans('', '', string.punctuation))\n",
    "        # Tokenize\n",
    "        tokens = word_tokenize(text)\n",
    "        # Remove stopwords and non-alphabetic words\n",
    "        tokens = [word for word in tokens if word.isalpha() and word not in stop_words]\n",
    "        # Lemmatize\n",
    "        tokens = [lemmatizer.lemmatize(word) for word in tokens]\n",
    "        # Rejoin tokens\n",
    "        cleaned_texts.append(' '.join(tokens))\n",
    "    return cleaned_texts\n",
    "\n",
    "# Apply function\n",
    "data['cleaned_text'] = clean_text(data['text_column'])\n"
   ]
  },
  {
   "cell_type": "code",
   "execution_count": null,
   "id": "3772a5a7-90c5-4795-b96c-a8aac9c2362a",
   "metadata": {},
   "outputs": [],
   "source": []
  }
 ],
 "metadata": {
  "kernelspec": {
   "display_name": "Python 3 (ipykernel)",
   "language": "python",
   "name": "python3"
  },
  "language_info": {
   "codemirror_mode": {
    "name": "ipython",
    "version": 3
   },
   "file_extension": ".py",
   "mimetype": "text/x-python",
   "name": "python",
   "nbconvert_exporter": "python",
   "pygments_lexer": "ipython3",
   "version": "3.12.5"
  }
 },
 "nbformat": 4,
 "nbformat_minor": 5
}
