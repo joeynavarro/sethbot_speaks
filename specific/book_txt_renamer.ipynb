{
 "cells": [
  {
   "cell_type": "code",
   "execution_count": 1,
   "id": "b45175da-1df0-45e4-9b88-1013bea7b504",
   "metadata": {},
   "outputs": [
    {
     "ename": "FileNotFoundError",
     "evalue": "[WinError 3] The system cannot find the path specified: '/path/to/your/files'",
     "output_type": "error",
     "traceback": [
      "\u001b[1;31m---------------------------------------------------------------------------\u001b[0m",
      "\u001b[1;31mFileNotFoundError\u001b[0m                         Traceback (most recent call last)",
      "Cell \u001b[1;32mIn[1], line 12\u001b[0m\n\u001b[0;32m      9\u001b[0m replacement \u001b[38;5;241m=\u001b[39m \u001b[38;5;124mr\u001b[39m\u001b[38;5;124m'\u001b[39m\u001b[38;5;124mnew_pattern\u001b[39m\u001b[38;5;124m'\u001b[39m  \u001b[38;5;66;03m# Replace with your desired pattern\u001b[39;00m\n\u001b[0;32m     11\u001b[0m \u001b[38;5;66;03m# Iterate through files in the directory\u001b[39;00m\n\u001b[1;32m---> 12\u001b[0m \u001b[38;5;28;01mfor\u001b[39;00m filename \u001b[38;5;129;01min\u001b[39;00m \u001b[43mos\u001b[49m\u001b[38;5;241;43m.\u001b[39;49m\u001b[43mlistdir\u001b[49m\u001b[43m(\u001b[49m\u001b[43mdirectory\u001b[49m\u001b[43m)\u001b[49m:\n\u001b[0;32m     13\u001b[0m     \u001b[38;5;66;03m# Check if the file matches the pattern\u001b[39;00m\n\u001b[0;32m     14\u001b[0m     new_name \u001b[38;5;241m=\u001b[39m re\u001b[38;5;241m.\u001b[39msub(pattern, replacement, filename)\n\u001b[0;32m     15\u001b[0m     \u001b[38;5;28;01mif\u001b[39;00m new_name \u001b[38;5;241m!=\u001b[39m filename:  \u001b[38;5;66;03m# Only rename if there's a change\u001b[39;00m\n\u001b[0;32m     16\u001b[0m         \u001b[38;5;66;03m# Build the full paths\u001b[39;00m\n",
      "\u001b[1;31mFileNotFoundError\u001b[0m: [WinError 3] The system cannot find the path specified: '/path/to/your/files'"
     ]
    }
   ],
   "source": [
    "import os\n",
    "import re\n",
    "\n",
    "# Define the directory containing the files\n",
    "directory = '' '/path/to/your/files'\n",
    "\n",
    "# Define the regex pattern and replacement\n",
    "pattern = r'old_pattern'  # Replace with your regex pattern\n",
    "replacement = r'new_pattern'  # Replace with your desired pattern\n",
    "\n",
    "# Iterate through files in the directory\n",
    "for filename in os.listdir(directory):\n",
    "    # Check if the file matches the pattern\n",
    "    new_name = re.sub(pattern, replacement, filename)\n",
    "    if new_name != filename:  # Only rename if there's a change\n",
    "        # Build the full paths\n",
    "        old_file = os.path.join(directory, filename)\n",
    "        new_file = os.path.join(directory, new_name)\n",
    "        # Rename the file\n",
    "        os.rename(old_file, new_file)\n",
    "        print(f'Renamed: {filename} -> {new_name}')\n"
   ]
  },
  {
   "cell_type": "code",
   "execution_count": 3,
   "id": "43d7c770-9858-43d1-bf8a-db09464dd3fb",
   "metadata": {},
   "outputs": [
    {
     "name": "stdout",
     "output_type": "stream",
     "text": [
      " Volume in drive C is Windows SSD\n",
      " Volume Serial Number is 947A-D007\n",
      "\n",
      " Directory of C:\\Users\\navar\\Documents\\GitHub\\sethbot_speaks\\data\n",
      "\n",
      "11/30/2024  07:34 PM    <DIR>          .\n",
      "11/30/2024  07:54 PM    <DIR>          ..\n",
      "11/10/2024  03:46 PM           595,368 6758481-Seth-on-a-Conscious-Creation-Myth1_djvu.txt\n",
      "11/10/2024  03:47 PM           624,431 jane_roberts_sethDeams_evIi_djvu.txt\n",
      "11/10/2024  03:48 PM           866,089 Jane_Roberts-The_Way_Toward_Health_djvu.txt\n",
      "11/10/2024  03:49 PM           654,843 Jane-Roberts-A-Seth-Book-Dreams-Evolution-and-Value-Fulfillment_djvu.txt\n",
      "11/10/2024  03:46 PM           745,228 Jane-Roberts-A-Seth-Book-The-Individual-and-the-Nature-of-mass-events_djvu.txt\n",
      "11/10/2024  03:45 PM           789,973 JaneRoberts-Seth-QuotesAndExcercises_djvu.txt\n",
      "11/10/2024  03:44 PM           487,113 Jane-Roberts-The-Education-of-Oversoul-Seven_djvu.txt\n",
      "11/10/2024  03:46 PM         1,054,744 JaneRobertsTheNatureOfPersonalReality_djvu.txt\n",
      "11/10/2024  03:49 PM           517,131 NatureOfThePsyche_djvu.txt\n",
      "11/10/2024  03:47 PM           648,079 Seth_Jane_Roberts_The_Unknown_Reality_Vol_djvu.txt\n",
      "11/10/2024  03:47 PM           570,780 Seth_Speaks_djvu.txt\n",
      "11/10/2024  03:46 PM           302,033 Seth-Jane-Roberts-Magical-Approach-OCR_djvu.txt\n",
      "11/10/2024  03:49 PM         1,341,297 seth-janeRoberts-theUnknownReality_volii_djvu.txt\n",
      "11/10/2024  03:48 PM           127,971 The-Seth-Material_djvu.txt\n",
      "              14 File(s)      9,325,080 bytes\n",
      "               2 Dir(s)  724,502,835,200 bytes free\n"
     ]
    }
   ],
   "source": [
    "ls data"
   ]
  },
  {
   "cell_type": "code",
   "execution_count": null,
   "id": "af0f8378-91b4-49c3-8a23-d1cea7be739e",
   "metadata": {},
   "outputs": [],
   "source": [
    "import os\n",
    "import re\n",
    "\n",
    "# Directory containing your text files\n",
    "directory = '/data'\n",
    "\n",
    "# Function to clean file names\n",
    "def clean_filename(filename):\n",
    "    # Replace '-' with '_'\n",
    "    filename = filename.replace('-', '_')\n",
    "\n",
    "    # Remove '_djvu'\n",
    "    filename = filename.replace('_djvu', '')\n",
    "\n",
    "    # Convert to lowercase\n",
    "    filename = filename.lower()\n",
    "\n",
    "    # Remove variations of 'Jane-Roberts' or 'Jane_Roberts'\n",
    "    filename = re.sub(r'jane[-_]roberts', '', filename, flags=re.IGNORECASE)\n",
    "\n",
    "    # Remove variations of 'Seth' and 'Seth-Book'\n",
    "    filename = re.sub(r'\\bseth(_book|[-_]book|book|[-_])?', '', filename, flags=re.IGNORECASE)\n",
    "\n",
    "    # Separate concatenated uppercase words (e.g., NatureOfThePsyche -> Nature_Of_The_Psyche)\n",
    "    filename = re.sub(r'(?<!_)(?=[A-Z])', '_', filename).strip('_')  # Ensure no leading or trailing underscores\n",
    "\n",
    "    # Remove extra underscores\n",
    "    filename = re.sub(r'_{2,}', '_', filename)  # Replace multiple underscores with a single one\n",
    "\n",
    "    # Ensure no leading or trailing underscores\n",
    "    filename = filename.strip('_')\n",
    "\n",
    "    return filename\n",
    "\n",
    "# Iterate through files in the directory\n",
    "for filename in os.listdir(directory):\n",
    "    old_path = os.path.join(directory, filename)\n",
    "    if os.path.isfile(old_path):  # Ensure it's a file\n",
    "        new_filename = clean_filename(filename)\n",
    "        new_path = os.path.join(directory, new_filename)\n",
    "        os.rename(old_path, new_path)\n",
    "        print(f'Renamed: {filename} -> {new_filename}')\n"
   ]
  }
 ],
 "metadata": {
  "kernelspec": {
   "display_name": "Python 3 (ipykernel)",
   "language": "python",
   "name": "python3"
  },
  "language_info": {
   "codemirror_mode": {
    "name": "ipython",
    "version": 3
   },
   "file_extension": ".py",
   "mimetype": "text/x-python",
   "name": "python",
   "nbconvert_exporter": "python",
   "pygments_lexer": "ipython3",
   "version": "3.12.5"
  }
 },
 "nbformat": 4,
 "nbformat_minor": 5
}
